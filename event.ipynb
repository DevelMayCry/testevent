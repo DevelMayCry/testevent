{
 "cells": [
  {
   "cell_type": "markdown",
   "metadata": {},
   "source": [
    "导入必要的工具包"
   ]
  },
  {
   "cell_type": "code",
   "execution_count": 74,
   "metadata": {},
   "outputs": [],
   "source": [
    "#导入必要的工具包\n",
    "import pandas as pd\n",
    "import numpy as np\n",
    "from sklearn.cluster import MiniBatchKMeans\n",
    "from sklearn.model_selection import train_test_split\n",
    "from sklearn import metrics\n",
    "\n",
    "import matplotlib.pyplot as plt\n",
    "%matplotlib inline"
   ]
  },
  {
   "cell_type": "code",
   "execution_count": 75,
   "metadata": {},
   "outputs": [
    {
     "data": {
      "text/html": [
       "<div>\n",
       "<style scoped>\n",
       "    .dataframe tbody tr th:only-of-type {\n",
       "        vertical-align: middle;\n",
       "    }\n",
       "\n",
       "    .dataframe tbody tr th {\n",
       "        vertical-align: top;\n",
       "    }\n",
       "\n",
       "    .dataframe thead th {\n",
       "        text-align: right;\n",
       "    }\n",
       "</style>\n",
       "<table border=\"1\" class=\"dataframe\">\n",
       "  <thead>\n",
       "    <tr style=\"text-align: right;\">\n",
       "      <th></th>\n",
       "      <th>user</th>\n",
       "      <th>event</th>\n",
       "      <th>invited</th>\n",
       "      <th>timestamp</th>\n",
       "      <th>interested</th>\n",
       "      <th>not_interested</th>\n",
       "    </tr>\n",
       "  </thead>\n",
       "  <tbody>\n",
       "    <tr>\n",
       "      <th>0</th>\n",
       "      <td>3044012</td>\n",
       "      <td>1918771225</td>\n",
       "      <td>0</td>\n",
       "      <td>2012-10-02 15:53:05.754000+00:00</td>\n",
       "      <td>0</td>\n",
       "      <td>0</td>\n",
       "    </tr>\n",
       "    <tr>\n",
       "      <th>1</th>\n",
       "      <td>3044012</td>\n",
       "      <td>1502284248</td>\n",
       "      <td>0</td>\n",
       "      <td>2012-10-02 15:53:05.754000+00:00</td>\n",
       "      <td>0</td>\n",
       "      <td>0</td>\n",
       "    </tr>\n",
       "    <tr>\n",
       "      <th>2</th>\n",
       "      <td>3044012</td>\n",
       "      <td>2529072432</td>\n",
       "      <td>0</td>\n",
       "      <td>2012-10-02 15:53:05.754000+00:00</td>\n",
       "      <td>1</td>\n",
       "      <td>0</td>\n",
       "    </tr>\n",
       "    <tr>\n",
       "      <th>3</th>\n",
       "      <td>3044012</td>\n",
       "      <td>3072478280</td>\n",
       "      <td>0</td>\n",
       "      <td>2012-10-02 15:53:05.754000+00:00</td>\n",
       "      <td>0</td>\n",
       "      <td>0</td>\n",
       "    </tr>\n",
       "    <tr>\n",
       "      <th>4</th>\n",
       "      <td>3044012</td>\n",
       "      <td>1390707377</td>\n",
       "      <td>0</td>\n",
       "      <td>2012-10-02 15:53:05.754000+00:00</td>\n",
       "      <td>0</td>\n",
       "      <td>0</td>\n",
       "    </tr>\n",
       "  </tbody>\n",
       "</table>\n",
       "</div>"
      ],
      "text/plain": [
       "      user       event  invited                         timestamp  interested  \\\n",
       "0  3044012  1918771225        0  2012-10-02 15:53:05.754000+00:00           0   \n",
       "1  3044012  1502284248        0  2012-10-02 15:53:05.754000+00:00           0   \n",
       "2  3044012  2529072432        0  2012-10-02 15:53:05.754000+00:00           1   \n",
       "3  3044012  3072478280        0  2012-10-02 15:53:05.754000+00:00           0   \n",
       "4  3044012  1390707377        0  2012-10-02 15:53:05.754000+00:00           0   \n",
       "\n",
       "   not_interested  \n",
       "0               0  \n",
       "1               0  \n",
       "2               0  \n",
       "3               0  \n",
       "4               0  "
      ]
     },
     "execution_count": 75,
     "metadata": {},
     "output_type": "execute_result"
    }
   ],
   "source": [
    "#读取训练数据\n",
    "train = pd.read_csv('train.csv')\n",
    "\n",
    "#显示头5行信息\n",
    "train.head()"
   ]
  },
  {
   "cell_type": "code",
   "execution_count": 76,
   "metadata": {},
   "outputs": [
    {
     "name": "stdout",
     "output_type": "stream",
     "text": [
      "<class 'pandas.core.frame.DataFrame'>\n",
      "RangeIndex: 15398 entries, 0 to 15397\n",
      "Data columns (total 6 columns):\n",
      "user              15398 non-null int64\n",
      "event             15398 non-null int64\n",
      "invited           15398 non-null int64\n",
      "timestamp         15398 non-null object\n",
      "interested        15398 non-null int64\n",
      "not_interested    15398 non-null int64\n",
      "dtypes: int64(5), object(1)\n",
      "memory usage: 721.9+ KB\n"
     ]
    }
   ],
   "source": [
    "#查看模型信息\n",
    "train.info()"
   ]
  },
  {
   "cell_type": "markdown",
   "metadata": {},
   "source": [
    "存在日期的类型，要对日期进行处理"
   ]
  },
  {
   "cell_type": "code",
   "execution_count": 77,
   "metadata": {},
   "outputs": [],
   "source": [
    "def procdess_created_date(df):\n",
    "    df['Date'] = pd.to_datetime(df['timestamp'])\n",
    "    df['Year'] = df['Date'].dt.year\n",
    "    df['Month'] = df['Date'].dt.month\n",
    "    df['Day'] = df['Date'].dt.day\n",
    "    df['Wday'] = df['Date'].dt.dayofweek\n",
    "    df['Yday'] = df['Date'].dt.dayofyear\n",
    "    df['hour'] = df['Date'].dt.hour\n",
    "\n",
    "    df.drop(['Date', 'timestamp'], axis=1,inplace = True)\n",
    "    \n",
    "procdess_created_date(train)"
   ]
  },
  {
   "cell_type": "code",
   "execution_count": 78,
   "metadata": {},
   "outputs": [
    {
     "data": {
      "text/html": [
       "<div>\n",
       "<style scoped>\n",
       "    .dataframe tbody tr th:only-of-type {\n",
       "        vertical-align: middle;\n",
       "    }\n",
       "\n",
       "    .dataframe tbody tr th {\n",
       "        vertical-align: top;\n",
       "    }\n",
       "\n",
       "    .dataframe thead th {\n",
       "        text-align: right;\n",
       "    }\n",
       "</style>\n",
       "<table border=\"1\" class=\"dataframe\">\n",
       "  <thead>\n",
       "    <tr style=\"text-align: right;\">\n",
       "      <th></th>\n",
       "      <th>user</th>\n",
       "      <th>event</th>\n",
       "      <th>invited</th>\n",
       "      <th>interested</th>\n",
       "      <th>not_interested</th>\n",
       "      <th>Year</th>\n",
       "      <th>Month</th>\n",
       "      <th>Day</th>\n",
       "      <th>Wday</th>\n",
       "      <th>Yday</th>\n",
       "      <th>hour</th>\n",
       "    </tr>\n",
       "  </thead>\n",
       "  <tbody>\n",
       "    <tr>\n",
       "      <th>0</th>\n",
       "      <td>3044012</td>\n",
       "      <td>1918771225</td>\n",
       "      <td>0</td>\n",
       "      <td>0</td>\n",
       "      <td>0</td>\n",
       "      <td>2012</td>\n",
       "      <td>10</td>\n",
       "      <td>2</td>\n",
       "      <td>1</td>\n",
       "      <td>276</td>\n",
       "      <td>15</td>\n",
       "    </tr>\n",
       "    <tr>\n",
       "      <th>1</th>\n",
       "      <td>3044012</td>\n",
       "      <td>1502284248</td>\n",
       "      <td>0</td>\n",
       "      <td>0</td>\n",
       "      <td>0</td>\n",
       "      <td>2012</td>\n",
       "      <td>10</td>\n",
       "      <td>2</td>\n",
       "      <td>1</td>\n",
       "      <td>276</td>\n",
       "      <td>15</td>\n",
       "    </tr>\n",
       "    <tr>\n",
       "      <th>2</th>\n",
       "      <td>3044012</td>\n",
       "      <td>2529072432</td>\n",
       "      <td>0</td>\n",
       "      <td>1</td>\n",
       "      <td>0</td>\n",
       "      <td>2012</td>\n",
       "      <td>10</td>\n",
       "      <td>2</td>\n",
       "      <td>1</td>\n",
       "      <td>276</td>\n",
       "      <td>15</td>\n",
       "    </tr>\n",
       "    <tr>\n",
       "      <th>3</th>\n",
       "      <td>3044012</td>\n",
       "      <td>3072478280</td>\n",
       "      <td>0</td>\n",
       "      <td>0</td>\n",
       "      <td>0</td>\n",
       "      <td>2012</td>\n",
       "      <td>10</td>\n",
       "      <td>2</td>\n",
       "      <td>1</td>\n",
       "      <td>276</td>\n",
       "      <td>15</td>\n",
       "    </tr>\n",
       "    <tr>\n",
       "      <th>4</th>\n",
       "      <td>3044012</td>\n",
       "      <td>1390707377</td>\n",
       "      <td>0</td>\n",
       "      <td>0</td>\n",
       "      <td>0</td>\n",
       "      <td>2012</td>\n",
       "      <td>10</td>\n",
       "      <td>2</td>\n",
       "      <td>1</td>\n",
       "      <td>276</td>\n",
       "      <td>15</td>\n",
       "    </tr>\n",
       "  </tbody>\n",
       "</table>\n",
       "</div>"
      ],
      "text/plain": [
       "      user       event  invited  interested  not_interested  Year  Month  Day  \\\n",
       "0  3044012  1918771225        0           0               0  2012     10    2   \n",
       "1  3044012  1502284248        0           0               0  2012     10    2   \n",
       "2  3044012  2529072432        0           1               0  2012     10    2   \n",
       "3  3044012  3072478280        0           0               0  2012     10    2   \n",
       "4  3044012  1390707377        0           0               0  2012     10    2   \n",
       "\n",
       "   Wday  Yday  hour  \n",
       "0     1   276    15  \n",
       "1     1   276    15  \n",
       "2     1   276    15  \n",
       "3     1   276    15  \n",
       "4     1   276    15  "
      ]
     },
     "execution_count": 78,
     "metadata": {},
     "output_type": "execute_result"
    }
   ],
   "source": [
    "#对日期变换已经处理完毕\n",
    "train.head()"
   ]
  },
  {
   "cell_type": "code",
   "execution_count": 79,
   "metadata": {},
   "outputs": [],
   "source": [
    "#拿到event 的数据作为y轴\n",
    "y_train = train.event.values\n",
    "#把y轴的数据删除  变为x轴\n",
    "X_train = train.drop(\"event\",axis=1).values"
   ]
  },
  {
   "cell_type": "code",
   "execution_count": 80,
   "metadata": {},
   "outputs": [
    {
     "name": "stderr",
     "output_type": "stream",
     "text": [
      "E:\\Anaconda\\envs\\python3\\lib\\site-packages\\sklearn\\model_selection\\_split.py:2026: FutureWarning: From version 0.21, test_size will always complement train_size unless both are specified.\n",
      "  FutureWarning)\n"
     ]
    }
   ],
   "source": [
    "# 将训练集合拆分成训练集和校验集，在校验集上找到最佳的模型超参数（PCA的维数）\n",
    "X_train_part, X_val, y_train_part, y_val = train_test_split(X_train,y_train, train_size = 0.8,random_state = 0)\n",
    "#X_train_part x轴的训练集\n",
    "#X_val  x轴的测试集\n",
    "#y_train_part  y轴的训练集\n",
    "#y_val  y轴的测试集\n",
    "\n",
    "#X_train_pca x轴的训练数据\n",
    "#y_train y轴的训练数据\n",
    "#train_size = 0.8  训练集的比例\n",
    "#random_state = 0  随机的次数"
   ]
  },
  {
   "cell_type": "code",
   "execution_count": 81,
   "metadata": {},
   "outputs": [],
   "source": [
    "# 一个参数点（聚类数据为K）的模型，在校验集上评价聚类算法性能\n",
    "def K_cluster_analysis(K, X_train, y_train, X_val, y_val):\n",
    "#K  分成多少类的值\n",
    "#X_train_part  x轴的训练集\n",
    "#y_train_part  y轴的训练集\n",
    "#X_val  x轴的测试集\n",
    " #y_val  y轴的测试集\n",
    "    \n",
    "    #定义开始时间\n",
    "    start = time.time()\n",
    "    \n",
    "    #输出\n",
    "    print(\"K-means begin with clusters: {}\".format(K));\n",
    "    \n",
    "    #K-means,在训练集上训练\n",
    "    mb_kmeans = MiniBatchKMeans(n_clusters = K)\n",
    "    #n_clusters = K  定义有多少类\n",
    "    \n",
    "    #训练模型\n",
    "    mb_kmeans.fit(X_train)\n",
    "    #X_train x轴的训练数据\n",
    "    \n",
    "    # 在训练集和测试集上测试\n",
    "    #y_train_pred = mb_kmeans.fit_predict(X_train)\n",
    "    y_val_pred = mb_kmeans.predict(X_val)\n",
    "    #X_val x轴的测试数据\n",
    "    \n",
    "    #以前两维特征打印训练数据的分类结果\n",
    "    #plt.scatter(X_train[:, 0], X_train[:, 1], c=y_pred)\n",
    "    #plt.show()\n",
    "\n",
    "    # K值的评估标准\n",
    "    #常见的方法有轮廓系数Silhouette Coefficient和Calinski-Harabasz Index\n",
    "    #这两个分数值越大则聚类效果越好\n",
    "    #CH_score = metrics.calinski_harabaz_score(X_train,mb_kmeans.predict(X_train))\n",
    "    CH_score = metrics.silhouette_score(X_train,mb_kmeans.predict(X_train))#内部评价\n",
    "    #X_train  x轴的训练数据\n",
    "    #mb_kmeans.predict(X_train)  模型预测的结果\n",
    "    \n",
    "    #也可以在校验集上评估K\n",
    "    v_score = metrics.v_measure_score(y_val, y_val_pred)#外部评价\n",
    "    #y_val  x轴的测试集\n",
    "    #y_val_pred  y轴的测试集\n",
    "    \n",
    "    #定义结束时间\n",
    "    end = time.time()\n",
    "    #输出\n",
    "    print(\"CH_score: {}, time elaps:{}\".format(CH_score, int(end-start)))\n",
    "    print(\"v_score: {}\".format(v_score))\n",
    "    \n",
    "    return CH_score,v_score"
   ]
  },
  {
   "cell_type": "code",
   "execution_count": 82,
   "metadata": {},
   "outputs": [
    {
     "name": "stdout",
     "output_type": "stream",
     "text": [
      "K-means begin with clusters: 10\n",
      "CH_score: 0.5474475130125527, time elaps:5\n",
      "v_score: 0.3751376546194379\n",
      "K-means begin with clusters: 20\n",
      "CH_score: 0.5410452511969207, time elaps:4\n",
      "v_score: 0.46921223188521866\n",
      "K-means begin with clusters: 30\n",
      "CH_score: 0.5422004710444529, time elaps:4\n",
      "v_score: 0.5203384029528769\n",
      "K-means begin with clusters: 40\n",
      "CH_score: 0.5448450154279408, time elaps:4\n",
      "v_score: 0.5533479665717842\n",
      "K-means begin with clusters: 50\n",
      "CH_score: 0.5415997319304634, time elaps:4\n",
      "v_score: 0.5784238700954667\n",
      "K-means begin with clusters: 60\n",
      "CH_score: 0.5629123656281116, time elaps:4\n",
      "v_score: 0.6017339128734643\n"
     ]
    }
   ],
   "source": [
    "# 设置超参数（聚类数目K）搜索范围\n",
    "Ks = [10, 20, 30,40,50,60] #定义要分多少类\n",
    "CH_scores = []  #内部评价存储列表\n",
    "v_scores = []   #外部评价存储列表\n",
    "\n",
    "\n",
    "for K in Ks:\n",
    "    #调用方法\n",
    "    ch,v = K_cluster_analysis(K, X_train_part, y_train_part, X_val, y_val)\n",
    "    #K  分成多少类的值\n",
    "    #X_train_part  x轴的训练集\n",
    "    #y_train_part  y轴的训练集\n",
    "    #X_val  x轴的测试集\n",
    "    #y_val  y轴的测试集\n",
    "    \n",
    "    #添加到内部评价列表中\n",
    "    CH_scores.append(ch)\n",
    "    #添加到外部评价列表中\n",
    "    v_scores.append(v)"
   ]
  },
  {
   "cell_type": "markdown",
   "metadata": {},
   "source": [
    "从上述可以看得出，  分类越细，ch越高分  再次调优"
   ]
  },
  {
   "cell_type": "code",
   "execution_count": 83,
   "metadata": {},
   "outputs": [
    {
     "name": "stdout",
     "output_type": "stream",
     "text": [
      "K-means begin with clusters: 70\n",
      "CH_score: 0.5713840690362406, time elaps:4\n",
      "v_score: 0.6171916675880449\n",
      "K-means begin with clusters: 80\n",
      "CH_score: 0.5689858533462515, time elaps:4\n",
      "v_score: 0.6306109892776396\n",
      "K-means begin with clusters: 90\n",
      "CH_score: 0.5716900900865112, time elaps:4\n",
      "v_score: 0.6457305439829645\n",
      "K-means begin with clusters: 100\n",
      "CH_score: 0.5753453933571943, time elaps:4\n",
      "v_score: 0.6538107410616093\n",
      "K-means begin with clusters: 110\n",
      "CH_score: 0.5820187783302463, time elaps:4\n",
      "v_score: 0.6647927973118071\n",
      "K-means begin with clusters: 120\n",
      "CH_score: 0.5664660941862446, time elaps:4\n",
      "v_score: 0.6719151519931452\n"
     ]
    }
   ],
   "source": [
    "# 设置超参数（聚类数目K）搜索范围\n",
    "Ks = [70, 80, 90,100,110,120] #定义要分多少类\n",
    "CH_scores = []  #内部评价存储列表\n",
    "v_scores = []   #外部评价存储列表\n",
    "\n",
    "\n",
    "for K in Ks:\n",
    "    #调用方法\n",
    "    ch,v = K_cluster_analysis(K, X_train_part, y_train_part, X_val, y_val)\n",
    "    #K  分成多少类的值\n",
    "    #X_train_part  x轴的训练集\n",
    "    #y_train_part  y轴的训练集\n",
    "    #X_val  x轴的测试集\n",
    "    #y_val  y轴的测试集\n",
    "    \n",
    "    #添加到内部评价列表中\n",
    "    CH_scores.append(ch)\n",
    "    #添加到外部评价列表中\n",
    "    v_scores.append(v)"
   ]
  },
  {
   "cell_type": "markdown",
   "metadata": {},
   "source": [
    "最高分为  K-means begin with clusters: 110\n",
    "CH_score: 0.5820187783302463, time elaps:4"
   ]
  },
  {
   "cell_type": "code",
   "execution_count": 84,
   "metadata": {},
   "outputs": [
    {
     "name": "stdout",
     "output_type": "stream",
     "text": [
      "K-means begin with clusters: 120\n",
      "CH_score: 0.5763526209585916, time elaps:4\n",
      "v_score: 0.6706155836526632\n",
      "K-means begin with clusters: 130\n",
      "CH_score: 0.591822177236437, time elaps:5\n",
      "v_score: 0.6810615202790458\n",
      "K-means begin with clusters: 140\n",
      "CH_score: 0.5858895379916694, time elaps:5\n",
      "v_score: 0.6886498726366703\n",
      "K-means begin with clusters: 150\n",
      "CH_score: 0.559117536850289, time elaps:5\n",
      "v_score: 0.6932579125787979\n",
      "K-means begin with clusters: 160\n",
      "CH_score: 0.5826479510100114, time elaps:5\n",
      "v_score: 0.7007066436570148\n",
      "K-means begin with clusters: 170\n",
      "CH_score: 0.5946312935996055, time elaps:6\n",
      "v_score: 0.7052504078948593\n"
     ]
    }
   ],
   "source": [
    "# 设置超参数（聚类数目K）搜索范围\n",
    "Ks = [120, 130, 140,150,160,170] #定义要分多少类\n",
    "CH_scores = []  #内部评价存储列表\n",
    "v_scores = []   #外部评价存储列表\n",
    "\n",
    "\n",
    "for K in Ks:\n",
    "    #调用方法\n",
    "    ch,v = K_cluster_analysis(K, X_train_part, y_train_part, X_val, y_val)\n",
    "    #K  分成多少类的值\n",
    "    #X_train_part  x轴的训练集\n",
    "    #y_train_part  y轴的训练集\n",
    "    #X_val  x轴的测试集\n",
    "    #y_val  y轴的测试集\n",
    "    \n",
    "    #添加到内部评价列表中\n",
    "    CH_scores.append(ch)\n",
    "    #添加到外部评价列表中\n",
    "    v_scores.append(v)"
   ]
  },
  {
   "cell_type": "markdown",
   "metadata": {},
   "source": [
    "最高分  K-means begin with clusters: 170\n",
    "CH_score: 0.5946312935996055"
   ]
  },
  {
   "cell_type": "code",
   "execution_count": null,
   "metadata": {},
   "outputs": [],
   "source": []
  }
 ],
 "metadata": {
  "kernelspec": {
   "display_name": "Python 3",
   "language": "python",
   "name": "python3"
  },
  "language_info": {
   "codemirror_mode": {
    "name": "ipython",
    "version": 3
   },
   "file_extension": ".py",
   "mimetype": "text/x-python",
   "name": "python",
   "nbconvert_exporter": "python",
   "pygments_lexer": "ipython3",
   "version": "3.6.4"
  }
 },
 "nbformat": 4,
 "nbformat_minor": 2
}
